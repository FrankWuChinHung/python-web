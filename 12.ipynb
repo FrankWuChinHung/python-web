{
 "cells": [
  {
   "cell_type": "code",
   "execution_count": 4,
   "id": "a255dd13-939e-4be4-b905-6aef7ac04df5",
   "metadata": {},
   "outputs": [
    {
     "name": "stdout",
     "output_type": "stream",
     "text": [
      "[新聞] 南警逮2男子竊女內衣褲起出逾50件 女子批變態\n",
      "https://www.ptt.cc/bbs/sex/M.1673216824.A.155.html\n",
      "[新聞] 交往不到5個月就硬來 色男腿夾女友又襲\n",
      "https://www.ptt.cc/bbs/sex/M.1673221527.A.387.html\n",
      "[公告] 西斯板規 Ver 6.2.9\n",
      "https://www.ptt.cc/bbs/sex/M.1444975473.A.7C9.html\n",
      "Fw: [公告] 請使用者多加注意我國保護兒少的法令\n",
      "https://www.ptt.cc/bbs/sex/M.1564409000.A.CD1.html\n",
      "[公告] 板規修正(2023/01/01 起實施)\n",
      "https://www.ptt.cc/bbs/sex/M.1671769517.A.1E4.html\n",
      "[公告] 2023 一月 西斯置底閒聊區\n",
      "https://www.ptt.cc/bbs/sex/M.1672585340.A.222.html\n"
     ]
    }
   ],
   "source": [
    "import requests as req\n",
    "from bs4 import BeautifulSoup as bs\n",
    "\n",
    "url = \"https://www.ptt.cc/bbs/sex/index.html\"\n",
    "\n",
    "# 首頁網址\n",
    "prefix = \"https://www.ptt.cc\"\n",
    "\n",
    "# 設定 cookie\n",
    "my_cookies = {\n",
    "    \"over18\": \"1\"\n",
    "}\n",
    "\n",
    "# 用 requests 的 get 方法把網頁抓下來\n",
    "res = req.get(url, cookies = my_cookies)\n",
    "\n",
    "# 指定 lxml 作為解析器\n",
    "soup = bs(res.text,\"lxml\")\n",
    "\n",
    "# 顯示連結列表\n",
    "for a in soup.select('div.r-ent > div.title > a'):\n",
    "    print(a.get_text())\n",
    "    print(prefix + a['href'])"
   ]
  },
  {
   "cell_type": "code",
   "execution_count": null,
   "id": "0295c021-9ca9-4783-83f3-d0c61ce43f7a",
   "metadata": {},
   "outputs": [],
   "source": []
  }
 ],
 "metadata": {
  "kernelspec": {
   "display_name": "Python 3 (ipykernel)",
   "language": "python",
   "name": "python3"
  },
  "language_info": {
   "codemirror_mode": {
    "name": "ipython",
    "version": 3
   },
   "file_extension": ".py",
   "mimetype": "text/x-python",
   "name": "python",
   "nbconvert_exporter": "python",
   "pygments_lexer": "ipython3",
   "version": "3.9.15"
  }
 },
 "nbformat": 4,
 "nbformat_minor": 5
}
