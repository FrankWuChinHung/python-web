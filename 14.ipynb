{
 "cells": [
  {
   "cell_type": "code",
   "execution_count": 1,
   "id": "88d99c5e-5f40-4371-a873-6583b63a3609",
   "metadata": {
    "tags": []
   },
   "outputs": [
    {
     "name": "stdout",
     "output_type": "stream",
     "text": [
      "\n",
      "          新聞\n",
      "           專家觀點 專題 \n",
      "          社群\n",
      "           活動 課程 雜誌 Podcast \n"
     ]
    }
   ],
   "source": [
    "'''\n",
    "參考網頁:\n",
    "[1] 下載 Chrome Web Driver\n",
    "https://chromedriver.chromium.org/downloads\n",
    "'''\n",
    "\n",
    "# 操作 browser 的 API\n",
    "from selenium.webdriver.chrome.service import Service\n",
    "from selenium import webdriver\n",
    "\n",
    "# 匯入套件\n",
    "from bs4 import BeautifulSoup as bs\n",
    "\n",
    "# 強制等待 (執行期間休息一下)\n",
    "from time import sleep\n",
    "\n",
    "# 使用 Chrome 的 WebDriver\n",
    "service = Service(executable_path = \"./chromedriver.exe\")\n",
    "driver = webdriver.Chrome(service = service)\n",
    "\n",
    "# 開啟網頁\n",
    "driver.get(\"https://www.bnext.com.tw/\")\n",
    "\n",
    "# 取得檢視原始碼的內容 (page_source 取得的 html，是動態的、使用者操作過後的結果)\n",
    "html = driver.page_source\n",
    "\n",
    "# 印出 html (也可以跟 Beautifulsoup 整合)\n",
    "# print(html)\n",
    "\n",
    "# 指定 lxml 作為解析器\n",
    "soup = bs(html,\"lxml\")\n",
    "\n",
    "# 取得 上方選單 元素\n",
    "div = soup.select_one('div.center.block-large-show')\n",
    "\n",
    "# 顯示內文\n",
    "# print(html)\n",
    "print(div.get_text())\n",
    "\n",
    "# 休眠幾秒\n",
    "sleep(5)\n",
    "\n",
    "# 關閉瀏覽器\n",
    "driver.quit()\n"
   ]
  },
  {
   "cell_type": "code",
   "execution_count": null,
   "id": "ba98e683-e76c-4f95-ae07-ef1ff7c362da",
   "metadata": {},
   "outputs": [],
   "source": []
  }
 ],
 "metadata": {
  "kernelspec": {
   "display_name": "Python 3 (ipykernel)",
   "language": "python",
   "name": "python3"
  },
  "language_info": {
   "codemirror_mode": {
    "name": "ipython",
    "version": 3
   },
   "file_extension": ".py",
   "mimetype": "text/x-python",
   "name": "python",
   "nbconvert_exporter": "python",
   "pygments_lexer": "ipython3",
   "version": "3.9.15"
  }
 },
 "nbformat": 4,
 "nbformat_minor": 5
}
