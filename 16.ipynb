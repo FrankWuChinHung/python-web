{
 "cells": [
  {
   "cell_type": "code",
   "execution_count": 1,
   "id": "83b16bae-2617-46c6-8693-1cb396b03b65",
   "metadata": {},
   "outputs": [],
   "source": [
    "'''\n",
    "參考網址:\n",
    "[1] Webdriver Manager for Python\n",
    "https://pypi.org/project/webdriver-manager/\n",
    "'''\n",
    "\n",
    "# 匯入套件\n",
    "from selenium import webdriver\n",
    "from selenium.webdriver.chrome.service import Service\n",
    "from webdriver_manager.chrome import ChromeDriverManager\n",
    "from selenium.common.exceptions import TimeoutException, NoSuchElementException\n",
    "from selenium.webdriver.support.ui import WebDriverWait\n",
    "from selenium.webdriver.support import expected_conditions as EC\n",
    "from selenium.webdriver.common.by import By\n",
    "from time import sleep\n"
   ]
  },
  {
   "cell_type": "code",
   "execution_count": 4,
   "id": "c4c697a9-4296-456c-a56d-074ebad2e623",
   "metadata": {},
   "outputs": [
    {
     "name": "stdout",
     "output_type": "stream",
     "text": [
      "https://tw.yahoo.com/\n"
     ]
    }
   ],
   "source": [
    "'''\n",
    "強制等待\n",
    "'''\n",
    "# 自動取得 Chrome 的 WebDriver\n",
    "driver = webdriver.Chrome(\n",
    "    service = Service(ChromeDriverManager().install())\n",
    ")\n",
    "\n",
    "try:\n",
    "    # 走訪網址\n",
    "    driver.get('https://tw.yahoo.com/')\n",
    "    \n",
    "    sleep(3)\n",
    "    \n",
    "    print(driver.current_url)\n",
    "    \n",
    "except:\n",
    "    print(\"程式出錯!\")\n",
    "    \n",
    "finally:\n",
    "    driver.quit()"
   ]
  },
  {
   "cell_type": "code",
   "execution_count": 7,
   "id": "9eb532ca-3724-46c4-b828-1d13eb2b23b0",
   "metadata": {},
   "outputs": [
    {
     "name": "stdout",
     "output_type": "stream",
     "text": [
      "https://tw.yahoo.com/\n"
     ]
    }
   ],
   "source": [
    "'''\n",
    "隱性等待\n",
    "'''\n",
    "\n",
    "# 自動取得 Chrome 的 WebDriver\n",
    "driver = webdriver.Chrome(\n",
    "    service = Service(ChromeDriverManager().install())\n",
    ")\n",
    "\n",
    "try:\n",
    "    # 最多等 15 秒\n",
    "    driver.implicitly_wait(15)\n",
    "    \n",
    "    driver.get('https://tw.yahoo.com/')\n",
    "    \n",
    "    # 取得元素\n",
    "    element = driver.find_element(By.CSS_SELECTOR, 'a#header-logo')\n",
    "    \n",
    "    # 印出超連結 ( 透過 .get_attribute('屬性') 來取得屬性的值 )\n",
    "    print(element.get_attribute('href'))\n",
    "\n",
    "except NoSuchElementException:\n",
    "    print(\"NoSuchElementException 找不到元素 !\")\n",
    "    \n",
    "finally:\n",
    "    driver.quit()    "
   ]
  },
  {
   "cell_type": "code",
   "execution_count": 15,
   "id": "430e2ec8-6869-4334-9097-b962cfb349fd",
   "metadata": {},
   "outputs": [
    {
     "name": "stdout",
     "output_type": "stream",
     "text": [
      "https://www.youtube.com/\n"
     ]
    }
   ],
   "source": [
    "'''\n",
    "顯性等待\n",
    "'''\n",
    "\n",
    "driver = webdriver.Chrome(\n",
    "    service = Service(ChromeDriverManager().install())\n",
    ")\n",
    "\n",
    "try:\n",
    "    driver.get('https://www.youtube.com/?gl=TW')\n",
    "\n",
    "    # 滿足條件（10秒內找到元素），則往下一步\n",
    "    WebDriverWait(driver,10).until(\n",
    "        EC.presence_of_element_located(\n",
    "            (By.LINK_TEXT,\"首頁\")\n",
    "        )\n",
    "    )\n",
    "    # 印出首頁連結\n",
    "    print(driver.find_element(By.LINK_TEXT,\"首頁\").get_attribute('href'))\n",
    "                                    \n",
    "except TimeoutException:\n",
    "    print('等待逾時！')\n",
    "    \n",
    "# finally:\n",
    "#     driver.quit()     "
   ]
  },
  {
   "cell_type": "code",
   "execution_count": null,
   "id": "7a9a5f12-29d6-42a9-993a-4cb244891c34",
   "metadata": {},
   "outputs": [],
   "source": []
  }
 ],
 "metadata": {
  "kernelspec": {
   "display_name": "Python 3 (ipykernel)",
   "language": "python",
   "name": "python3"
  },
  "language_info": {
   "codemirror_mode": {
    "name": "ipython",
    "version": 3
   },
   "file_extension": ".py",
   "mimetype": "text/x-python",
   "name": "python",
   "nbconvert_exporter": "python",
   "pygments_lexer": "ipython3",
   "version": "3.9.15"
  }
 },
 "nbformat": 4,
 "nbformat_minor": 5
}
